{
  "cells": [
    {
      "cell_type": "markdown",
      "metadata": {
        "id": "nDsVMGiVgSq2"
      },
      "source": [
        "## Классификация FashionMNIST\n",
        "\n",
        "##### Автор: [Радослав Нейчев](https://www.linkedin.com/in/radoslav-neychev/), https://t.me/s/girafe_ai"
      ]
    },
    {
      "cell_type": "code",
      "execution_count": 1,
      "metadata": {
        "id": "3isBRG6PgSq6"
      },
      "outputs": [],
      "source": [
        "# do not change the code in the block below\n",
        "# __________start of block__________\n",
        "import json\n",
        "import os\n",
        "import re\n",
        "\n",
        "import numpy as np\n",
        "import torch\n",
        "import torchvision\n",
        "from IPython.display import clear_output\n",
        "from matplotlib import pyplot as plt\n",
        "from torch import nn\n",
        "from torch.nn import functional as F\n",
        "from torchvision.datasets import FashionMNIST\n",
        "\n",
        "# __________end of block__________"
      ]
    },
    {
      "cell_type": "code",
      "execution_count": 2,
      "metadata": {
        "id": "4T641xbYeExp"
      },
      "outputs": [],
      "source": [
        "# do not change the code in the block below\n",
        "# __________start of block__________\n",
        "def get_predictions(model, eval_data, step=10):\n",
        "\n",
        "    predicted_labels = []\n",
        "    model.eval()\n",
        "    with torch.no_grad():\n",
        "        for idx in range(0, len(eval_data), step):\n",
        "            y_predicted = model(eval_data[idx : idx + step].to(device))\n",
        "            predicted_labels.append(y_predicted.argmax(dim=1).cpu())\n",
        "\n",
        "    predicted_labels = torch.cat(predicted_labels)\n",
        "    predicted_labels = \",\".join([str(x.item()) for x in list(predicted_labels)])\n",
        "    return predicted_labels\n",
        "\n",
        "\n",
        "def get_accuracy(model, data_loader):\n",
        "    predicted_labels = []\n",
        "    real_labels = []\n",
        "    model.eval()\n",
        "    with torch.no_grad():\n",
        "        for batch in data_loader:\n",
        "            y_predicted = model(batch[0].to(device))\n",
        "            predicted_labels.append(y_predicted.argmax(dim=1).cpu())\n",
        "            real_labels.append(batch[1])\n",
        "\n",
        "    predicted_labels = torch.cat(predicted_labels)\n",
        "    real_labels = torch.cat(real_labels)\n",
        "    accuracy_score = (predicted_labels == real_labels).type(torch.FloatTensor).mean()\n",
        "    return accuracy_score\n",
        "\n",
        "\n",
        "# __________end of block__________"
      ]
    },
    {
      "cell_type": "markdown",
      "metadata": {
        "id": "qsKZEzQ_eExv"
      },
      "source": [
        "Загрузите файл `hw_overfitting_data_dict.npy` (ссылка есть на странице с заданием), он понадобится для генерации посылок. Код ниже может его загрузить (но в случае возникновения ошибки скачайте и загрузите его вручную).\n"
      ]
    },
    {
      "cell_type": "code",
      "execution_count": 3,
      "metadata": {
        "id": "sOvbD96yeExx",
        "outputId": "9c9948f9-f118-4e8d-d5f2-bc7f73e49f8c",
        "colab": {
          "base_uri": "https://localhost:8080/"
        }
      },
      "outputs": [
        {
          "output_type": "stream",
          "name": "stdout",
          "text": [
            "--2025-04-12 10:08:52--  https://github.com/girafe-ai/ml-course/raw/24f_ysda/homeworks/hw_overfitting/hw_overfitting_data_dict\n",
            "Resolving github.com (github.com)... 20.205.243.166\n",
            "Connecting to github.com (github.com)|20.205.243.166|:443... connected.\n",
            "HTTP request sent, awaiting response... 302 Found\n",
            "Location: https://raw.githubusercontent.com/girafe-ai/ml-course/24f_ysda/homeworks/hw_overfitting/hw_overfitting_data_dict [following]\n",
            "--2025-04-12 10:08:52--  https://raw.githubusercontent.com/girafe-ai/ml-course/24f_ysda/homeworks/hw_overfitting/hw_overfitting_data_dict\n",
            "Resolving raw.githubusercontent.com (raw.githubusercontent.com)... 185.199.108.133, 185.199.109.133, 185.199.110.133, ...\n",
            "Connecting to raw.githubusercontent.com (raw.githubusercontent.com)|185.199.108.133|:443... connected.\n",
            "HTTP request sent, awaiting response... 200 OK\n",
            "Length: 6272446 (6.0M) [application/octet-stream]\n",
            "Saving to: ‘hw_overfitting_data_dict.npy’\n",
            "\n",
            "hw_overfitting_data 100%[===================>]   5.98M  --.-KB/s    in 0.03s   \n",
            "\n",
            "2025-04-12 10:08:52 (234 MB/s) - ‘hw_overfitting_data_dict.npy’ saved [6272446/6272446]\n",
            "\n"
          ]
        }
      ],
      "source": [
        "!wget https://github.com/girafe-ai/ml-course/raw/24f_ysda/homeworks/hw_overfitting/hw_overfitting_data_dict -O hw_overfitting_data_dict.npy"
      ]
    },
    {
      "cell_type": "code",
      "execution_count": 4,
      "metadata": {
        "id": "pPCvC_gseEx0"
      },
      "outputs": [],
      "source": [
        "# do not change the code in the block below\n",
        "# __________start of block__________\n",
        "assert os.path.exists(\n",
        "    \"hw_overfitting_data_dict.npy\"\n",
        "), \"Please, download `hw_overfitting_data_dict.npy` and place it in the working directory\"\n",
        "\n",
        "# __________end of block__________"
      ]
    },
    {
      "cell_type": "markdown",
      "metadata": {
        "id": "zeA6Q5-CgSq7"
      },
      "source": [
        "Вернемся к задаче распознавания простых изображений, рассмотренной ранее. Но теперь будем работать с набором данных [FashionMNIST](https://github.com/zalandoresearch/fashion-mnist). В данном задании воспользуемся всем датасетом целиком.\n",
        "\n",
        "__Ваша первая задача: реализовать весь пайплан обучения модели и добиться качества $\\geq 88.5\\%$ на тестовой выборке.__\n",
        "\n",
        "Код для обучения модели в данном задании отсутствует. Присутствует лишь несколько тестов, которые помогут вам отладить свое решение. За примером можно обратиться к ноутбукам с предыдущих занятий."
      ]
    },
    {
      "cell_type": "code",
      "execution_count": 5,
      "metadata": {
        "id": "QLrebdEIeEx8"
      },
      "outputs": [],
      "source": [
        "CUDA_DEVICE_ID = 0  # change if needed"
      ]
    },
    {
      "cell_type": "code",
      "execution_count": 6,
      "metadata": {
        "id": "nPG1KbQAgl8b"
      },
      "outputs": [],
      "source": [
        "# do not change the code in the block below\n",
        "# __________start of block__________\n",
        "device = (\n",
        "    torch.device(f\"cuda:{CUDA_DEVICE_ID}\") if torch.cuda.is_available() else torch.device(\"cpu\")\n",
        ")\n",
        "# __________end of block__________"
      ]
    },
    {
      "cell_type": "code",
      "execution_count": 14,
      "metadata": {
        "colab": {
          "base_uri": "https://localhost:8080/",
          "height": 470
        },
        "id": "aYcL28OsgSq8",
        "outputId": "93399d28-4167-4cba-a740-2695e522cf67"
      },
      "outputs": [
        {
          "output_type": "execute_result",
          "data": {
            "text/plain": [
              "Text(0.5, 1.0, 'Image label: 0')"
            ]
          },
          "metadata": {},
          "execution_count": 14
        },
        {
          "output_type": "display_data",
          "data": {
            "text/plain": [
              "<Figure size 640x480 with 1 Axes>"
            ],
            "image/png": "[encoded data removed]"
          },
          "metadata": {}
        }
      ],
      "source": [
        "# do not change the code in the block below\n",
        "# __________start of block__________\n",
        "\n",
        "train_fmnist_data = FashionMNIST(\n",
        "    \".\", train=True, transform=torchvision.transforms.ToTensor(), download=True\n",
        ")\n",
        "test_fmnist_data = FashionMNIST(\n",
        "    \".\", train=False, transform=torchvision.transforms.ToTensor(), download=True\n",
        ")\n",
        "\n",
        "\n",
        "train_data_loader = torch.utils.data.DataLoader(\n",
        "    train_fmnist_data, batch_size=32, shuffle=True, num_workers=2\n",
        ")\n",
        "\n",
        "test_data_loader = torch.utils.data.DataLoader(\n",
        "    test_fmnist_data, batch_size=32, shuffle=False, num_workers=2\n",
        ")\n",
        "\n",
        "random_batch = next(iter(train_data_loader))\n",
        "_image, _label = random_batch[0][0], random_batch[1][0]\n",
        "plt.figure()\n",
        "plt.imshow(_image.reshape(28, 28))\n",
        "plt.title(f\"Image label: {_label}\")\n",
        "# __________end of block__________"
      ]
    },
    {
      "cell_type": "markdown",
      "metadata": {
        "id": "S6jWRv1rgSq8"
      },
      "source": [
        "Постройте модель ниже. Пожалуйста, не стройте переусложненную сеть, не стоит делать ее глубже четырех слоев (можно и меньше). Ваша основная задача – обучить модель и получить качество на отложенной (тестовой выборке) не менее 88.5% accuracy.\n",
        "\n",
        "__Внимание, ваша модель должна быть представлена именно переменной `model_task_1`. На вход ей должен приходить тензор размерностью (1, 28, 28).__"
      ]
    },
    {
      "cell_type": "code",
      "execution_count": 19,
      "metadata": {
        "id": "BcyEFX-RgSq8"
      },
      "outputs": [],
      "source": [
        "# Creating model instance\n",
        "class FMNIST(nn.Module):\n",
        "    def __init__(self):\n",
        "        super(FMNIST, self).__init__()\n",
        "        self.conv1 = nn.Conv2d(1, 32, kernel_size=3, padding=1)  # Added padding\n",
        "        self.bn1 = nn.BatchNorm2d(32) # Batch Normalization\n",
        "        self.conv2 = nn.Conv2d(32, 64, kernel_size=3, padding=1)  # Added padding\n",
        "        self.bn2 = nn.BatchNorm2d(64) # Batch Normalization\n",
        "        self.pool = nn.MaxPool2d(2, 2)\n",
        "        self.dropout = nn.Dropout(0.25) # Dropout\n",
        "        self.fc1 = nn.Linear(64 * 7 * 7, 512)\n",
        "        self.bn3 = nn.BatchNorm1d(512) # Batch Normalization\n",
        "        self.fc2 = nn.Linear(512, 10)\n",
        "\n",
        "    def forward(self, x):\n",
        "        x = F.relu(self.bn1(self.conv1(x)))\n",
        "        x = self.pool(x)\n",
        "        x = F.relu(self.bn2(self.conv2(x)))\n",
        "        x = self.pool(x)\n",
        "        x = x.view(-1, 64 * 7 * 7)\n",
        "        x = self.dropout(x) # Apply Dropout\n",
        "        x = F.relu(self.bn3(self.fc1(x)))\n",
        "        x = self.fc2(x)\n",
        "        return x\n",
        "model_task_1 = FMNIST()\n",
        "# your code here"
      ]
    },
    {
      "cell_type": "markdown",
      "metadata": {
        "id": "bAoLV4dkoy5M"
      },
      "source": [
        "Не забудьте перенести модель на выбранный `device`!"
      ]
    },
    {
      "cell_type": "code",
      "execution_count": 21,
      "metadata": {
        "id": "Xas9SIXDoxvZ",
        "outputId": "2f903f5a-b433-4b30-983b-0a269b087fe1",
        "colab": {
          "base_uri": "https://localhost:8080/"
        }
      },
      "outputs": [
        {
          "output_type": "execute_result",
          "data": {
            "text/plain": [
              "FMNIST(\n",
              "  (conv1): Conv2d(1, 32, kernel_size=(3, 3), stride=(1, 1), padding=(1, 1))\n",
              "  (bn1): BatchNorm2d(32, eps=1e-05, momentum=0.1, affine=True, track_running_stats=True)\n",
              "  (conv2): Conv2d(32, 64, kernel_size=(3, 3), stride=(1, 1), padding=(1, 1))\n",
              "  (bn2): BatchNorm2d(64, eps=1e-05, momentum=0.1, affine=True, track_running_stats=True)\n",
              "  (pool): MaxPool2d(kernel_size=2, stride=2, padding=0, dilation=1, ceil_mode=False)\n",
              "  (dropout): Dropout(p=0.25, inplace=False)\n",
              "  (fc1): Linear(in_features=3136, out_features=512, bias=True)\n",
              "  (bn3): BatchNorm1d(512, eps=1e-05, momentum=0.1, affine=True, track_running_stats=True)\n",
              "  (fc2): Linear(in_features=512, out_features=10, bias=True)\n",
              ")"
            ]
          },
          "metadata": {},
          "execution_count": 21
        }
      ],
      "source": [
        "model_task_1.to(device)"
      ]
    },
    {
      "cell_type": "markdown",
      "metadata": {
        "id": "6pLRWysggSq9"
      },
      "source": [
        "Локальные тесты для проверки вашей модели доступны ниже:"
      ]
    },
    {
      "cell_type": "code",
      "execution_count": 22,
      "metadata": {
        "colab": {
          "base_uri": "https://localhost:8080/"
        },
        "id": "_qMQzo1ggSq9",
        "outputId": "5aec3f68-3af9-4d83-e7ab-a38350e5501c"
      },
      "outputs": [
        {
          "output_type": "stream",
          "name": "stdout",
          "text": [
            "Everything seems fine!\n"
          ]
        }
      ],
      "source": [
        "# do not change the code in the block below\n",
        "# __________start of block__________\n",
        "assert model_task_1 is not None, \"Please, use `model_task_1` variable to store your model\"\n",
        "\n",
        "try:\n",
        "    x = random_batch[0].to(device)\n",
        "    y = random_batch[1].to(device)\n",
        "\n",
        "    # compute outputs given inputs, both are variables\n",
        "    y_predicted = model_task_1(x)\n",
        "except Exception as e:\n",
        "    print(\"Something is wrong with the model\")\n",
        "    raise e\n",
        "\n",
        "\n",
        "assert y_predicted.shape[-1] == 10, \"Model should predict 10 logits/probas\"\n",
        "\n",
        "print(\"Everything seems fine!\")\n",
        "# __________end of block__________"
      ]
    },
    {
      "cell_type": "markdown",
      "metadata": {
        "id": "suRmIPwIgSq9"
      },
      "source": [
        "Настройте параметры модели на обучающей выборке. Также рекомендуем поработать с `learning rate`."
      ]
    },
    {
      "cell_type": "code",
      "execution_count": 23,
      "metadata": {
        "id": "YJnU14bdnZa_",
        "outputId": "0335baa9-1dd8-4045-e700-7341cef4cfac",
        "colab": {
          "base_uri": "https://localhost:8080/"
        }
      },
      "outputs": [
        {
          "output_type": "stream",
          "name": "stdout",
          "text": [
            "[1,   200] loss: 0.743\n",
            "[1,   400] loss: 0.476\n",
            "[1,   600] loss: 0.427\n",
            "[1,   800] loss: 0.386\n",
            "[1,  1000] loss: 0.365\n",
            "[1,  1200] loss: 0.361\n",
            "[1,  1400] loss: 0.340\n",
            "[1,  1600] loss: 0.344\n",
            "[1,  1800] loss: 0.300\n",
            "[2,   200] loss: 0.292\n",
            "[2,   400] loss: 0.285\n",
            "[2,   600] loss: 0.289\n",
            "[2,   800] loss: 0.267\n",
            "[2,  1000] loss: 0.285\n",
            "[2,  1200] loss: 0.288\n",
            "[2,  1400] loss: 0.281\n",
            "[2,  1600] loss: 0.283\n",
            "[2,  1800] loss: 0.283\n",
            "[3,   200] loss: 0.240\n",
            "[3,   400] loss: 0.241\n",
            "[3,   600] loss: 0.241\n",
            "[3,   800] loss: 0.243\n",
            "[3,  1000] loss: 0.239\n",
            "[3,  1200] loss: 0.251\n",
            "[3,  1400] loss: 0.254\n",
            "[3,  1600] loss: 0.246\n",
            "[3,  1800] loss: 0.248\n",
            "[4,   200] loss: 0.210\n",
            "[4,   400] loss: 0.217\n",
            "[4,   600] loss: 0.220\n",
            "[4,   800] loss: 0.218\n",
            "[4,  1000] loss: 0.221\n",
            "[4,  1200] loss: 0.233\n",
            "[4,  1400] loss: 0.225\n",
            "[4,  1600] loss: 0.226\n",
            "[4,  1800] loss: 0.214\n",
            "[5,   200] loss: 0.197\n",
            "[5,   400] loss: 0.200\n",
            "[5,   600] loss: 0.192\n",
            "[5,   800] loss: 0.204\n",
            "[5,  1000] loss: 0.196\n",
            "[5,  1200] loss: 0.201\n",
            "[5,  1400] loss: 0.196\n",
            "[5,  1600] loss: 0.191\n",
            "[5,  1800] loss: 0.193\n",
            "[6,   200] loss: 0.174\n",
            "[6,   400] loss: 0.174\n",
            "[6,   600] loss: 0.186\n",
            "[6,   800] loss: 0.177\n",
            "[6,  1000] loss: 0.183\n",
            "[6,  1200] loss: 0.184\n",
            "[6,  1400] loss: 0.184\n",
            "[6,  1600] loss: 0.176\n",
            "[6,  1800] loss: 0.183\n",
            "[7,   200] loss: 0.167\n",
            "[7,   400] loss: 0.162\n",
            "[7,   600] loss: 0.167\n",
            "[7,   800] loss: 0.167\n",
            "[7,  1000] loss: 0.160\n",
            "[7,  1200] loss: 0.161\n",
            "[7,  1400] loss: 0.166\n",
            "[7,  1600] loss: 0.177\n",
            "[7,  1800] loss: 0.171\n",
            "[8,   200] loss: 0.142\n",
            "[8,   400] loss: 0.152\n",
            "[8,   600] loss: 0.154\n",
            "[8,   800] loss: 0.142\n",
            "[8,  1000] loss: 0.152\n",
            "[8,  1200] loss: 0.163\n",
            "[8,  1400] loss: 0.153\n",
            "[8,  1600] loss: 0.161\n",
            "[8,  1800] loss: 0.158\n",
            "[9,   200] loss: 0.145\n",
            "[9,   400] loss: 0.147\n",
            "[9,   600] loss: 0.137\n",
            "[9,   800] loss: 0.136\n",
            "[9,  1000] loss: 0.141\n",
            "[9,  1200] loss: 0.142\n",
            "[9,  1400] loss: 0.139\n",
            "[9,  1600] loss: 0.145\n",
            "[9,  1800] loss: 0.147\n",
            "[10,   200] loss: 0.131\n",
            "[10,   400] loss: 0.132\n",
            "[10,   600] loss: 0.129\n",
            "[10,   800] loss: 0.122\n",
            "[10,  1000] loss: 0.135\n",
            "[10,  1200] loss: 0.137\n",
            "[10,  1400] loss: 0.127\n",
            "[10,  1600] loss: 0.129\n",
            "[10,  1800] loss: 0.132\n",
            "[11,   200] loss: 0.119\n",
            "[11,   400] loss: 0.125\n",
            "[11,   600] loss: 0.127\n",
            "[11,   800] loss: 0.128\n",
            "[11,  1000] loss: 0.130\n",
            "[11,  1200] loss: 0.116\n",
            "[11,  1400] loss: 0.111\n",
            "[11,  1600] loss: 0.130\n",
            "[11,  1800] loss: 0.139\n",
            "[12,   200] loss: 0.111\n",
            "[12,   400] loss: 0.111\n",
            "[12,   600] loss: 0.116\n",
            "[12,   800] loss: 0.121\n",
            "[12,  1000] loss: 0.105\n",
            "[12,  1200] loss: 0.117\n",
            "[12,  1400] loss: 0.114\n",
            "[12,  1600] loss: 0.122\n",
            "[12,  1800] loss: 0.117\n",
            "[13,   200] loss: 0.103\n",
            "[13,   400] loss: 0.103\n",
            "[13,   600] loss: 0.102\n",
            "[13,   800] loss: 0.102\n",
            "[13,  1000] loss: 0.103\n",
            "[13,  1200] loss: 0.108\n",
            "[13,  1400] loss: 0.109\n",
            "[13,  1600] loss: 0.114\n",
            "[13,  1800] loss: 0.105\n",
            "[14,   200] loss: 0.088\n",
            "[14,   400] loss: 0.093\n",
            "[14,   600] loss: 0.091\n",
            "[14,   800] loss: 0.097\n",
            "[14,  1000] loss: 0.097\n",
            "[14,  1200] loss: 0.096\n",
            "[14,  1400] loss: 0.100\n",
            "[14,  1600] loss: 0.100\n",
            "[14,  1800] loss: 0.106\n",
            "[15,   200] loss: 0.079\n",
            "[15,   400] loss: 0.084\n",
            "[15,   600] loss: 0.086\n",
            "[15,   800] loss: 0.080\n",
            "[15,  1000] loss: 0.086\n",
            "[15,  1200] loss: 0.088\n",
            "[15,  1400] loss: 0.096\n",
            "[15,  1600] loss: 0.104\n",
            "[15,  1800] loss: 0.095\n",
            "[16,   200] loss: 0.076\n",
            "[16,   400] loss: 0.076\n",
            "[16,   600] loss: 0.088\n",
            "[16,   800] loss: 0.082\n",
            "[16,  1000] loss: 0.082\n",
            "[16,  1200] loss: 0.081\n",
            "[16,  1400] loss: 0.077\n",
            "[16,  1600] loss: 0.091\n",
            "[16,  1800] loss: 0.088\n",
            "[17,   200] loss: 0.074\n",
            "[17,   400] loss: 0.069\n",
            "[17,   600] loss: 0.075\n",
            "[17,   800] loss: 0.079\n",
            "[17,  1000] loss: 0.077\n",
            "[17,  1200] loss: 0.076\n",
            "[17,  1400] loss: 0.075\n",
            "[17,  1600] loss: 0.082\n",
            "[17,  1800] loss: 0.080\n",
            "[18,   200] loss: 0.072\n",
            "[18,   400] loss: 0.063\n",
            "[18,   600] loss: 0.068\n",
            "[18,   800] loss: 0.070\n",
            "[18,  1000] loss: 0.069\n",
            "[18,  1200] loss: 0.070\n",
            "[18,  1400] loss: 0.072\n",
            "[18,  1600] loss: 0.072\n",
            "[18,  1800] loss: 0.069\n",
            "[19,   200] loss: 0.063\n",
            "[19,   400] loss: 0.064\n",
            "[19,   600] loss: 0.062\n",
            "[19,   800] loss: 0.063\n",
            "[19,  1000] loss: 0.059\n",
            "[19,  1200] loss: 0.070\n",
            "[19,  1400] loss: 0.072\n",
            "[19,  1600] loss: 0.065\n",
            "[19,  1800] loss: 0.076\n",
            "[20,   200] loss: 0.052\n",
            "[20,   400] loss: 0.054\n",
            "[20,   600] loss: 0.057\n",
            "[20,   800] loss: 0.064\n",
            "[20,  1000] loss: 0.057\n",
            "[20,  1200] loss: 0.060\n",
            "[20,  1400] loss: 0.067\n",
            "[20,  1600] loss: 0.064\n",
            "[20,  1800] loss: 0.061\n",
            "[21,   200] loss: 0.053\n",
            "[21,   400] loss: 0.053\n",
            "[21,   600] loss: 0.057\n",
            "[21,   800] loss: 0.052\n",
            "[21,  1000] loss: 0.057\n",
            "[21,  1200] loss: 0.060\n",
            "[21,  1400] loss: 0.058\n",
            "[21,  1600] loss: 0.059\n",
            "[21,  1800] loss: 0.055\n",
            "[22,   200] loss: 0.052\n",
            "[22,   400] loss: 0.047\n",
            "[22,   600] loss: 0.047\n",
            "[22,   800] loss: 0.052\n",
            "[22,  1000] loss: 0.055\n",
            "[22,  1200] loss: 0.055\n",
            "[22,  1400] loss: 0.055\n",
            "[22,  1600] loss: 0.055\n",
            "[22,  1800] loss: 0.061\n",
            "[23,   200] loss: 0.042\n",
            "[23,   400] loss: 0.048\n",
            "[23,   600] loss: 0.048\n",
            "[23,   800] loss: 0.043\n",
            "[23,  1000] loss: 0.048\n",
            "[23,  1200] loss: 0.050\n",
            "[23,  1400] loss: 0.049\n",
            "[23,  1600] loss: 0.052\n",
            "[23,  1800] loss: 0.049\n",
            "[24,   200] loss: 0.043\n",
            "[24,   400] loss: 0.041\n",
            "[24,   600] loss: 0.049\n",
            "[24,   800] loss: 0.042\n",
            "[24,  1000] loss: 0.043\n",
            "[24,  1200] loss: 0.042\n",
            "[24,  1400] loss: 0.045\n",
            "[24,  1600] loss: 0.041\n",
            "[24,  1800] loss: 0.049\n",
            "[25,   200] loss: 0.045\n",
            "[25,   400] loss: 0.039\n",
            "[25,   600] loss: 0.039\n",
            "[25,   800] loss: 0.044\n",
            "[25,  1000] loss: 0.039\n",
            "[25,  1200] loss: 0.041\n",
            "[25,  1400] loss: 0.048\n",
            "[25,  1600] loss: 0.043\n",
            "[25,  1800] loss: 0.046\n",
            "[26,   200] loss: 0.037\n",
            "[26,   400] loss: 0.045\n",
            "[26,   600] loss: 0.039\n",
            "[26,   800] loss: 0.042\n",
            "[26,  1000] loss: 0.041\n",
            "[26,  1200] loss: 0.043\n",
            "[26,  1400] loss: 0.043\n",
            "[26,  1600] loss: 0.040\n",
            "[26,  1800] loss: 0.043\n",
            "[27,   200] loss: 0.031\n",
            "[27,   400] loss: 0.035\n",
            "[27,   600] loss: 0.039\n",
            "[27,   800] loss: 0.035\n",
            "[27,  1000] loss: 0.040\n",
            "[27,  1200] loss: 0.042\n",
            "[27,  1400] loss: 0.036\n",
            "[27,  1600] loss: 0.039\n",
            "[27,  1800] loss: 0.036\n",
            "[28,   200] loss: 0.036\n",
            "[28,   400] loss: 0.031\n",
            "[28,   600] loss: 0.037\n",
            "[28,   800] loss: 0.034\n",
            "[28,  1000] loss: 0.038\n",
            "[28,  1200] loss: 0.034\n",
            "[28,  1400] loss: 0.039\n",
            "[28,  1600] loss: 0.040\n",
            "[28,  1800] loss: 0.037\n",
            "[29,   200] loss: 0.029\n",
            "[29,   400] loss: 0.029\n",
            "[29,   600] loss: 0.027\n",
            "[29,   800] loss: 0.034\n",
            "[29,  1000] loss: 0.033\n",
            "[29,  1200] loss: 0.032\n",
            "[29,  1400] loss: 0.034\n",
            "[29,  1600] loss: 0.032\n",
            "[29,  1800] loss: 0.034\n",
            "[30,   200] loss: 0.029\n",
            "[30,   400] loss: 0.031\n",
            "[30,   600] loss: 0.028\n",
            "[30,   800] loss: 0.028\n",
            "[30,  1000] loss: 0.032\n",
            "[30,  1200] loss: 0.034\n",
            "[30,  1400] loss: 0.035\n",
            "[30,  1600] loss: 0.033\n",
            "[30,  1800] loss: 0.033\n",
            "Finished Training\n",
            "Accuracy of the network on the 10000 test images: 91.72%\n"
          ]
        }
      ],
      "source": [
        "# your code here\n",
        "import torch.optim as optim\n",
        "\n",
        "criterion = nn.CrossEntropyLoss()\n",
        "optimizer = optim.Adam(model_task_1.parameters(), lr=0.0001)\n",
        "\n",
        "epochs = 30\n",
        "\n",
        "for epoch in range(epochs):\n",
        "    running_loss = 0.0\n",
        "    for i, data in enumerate(train_data_loader, 0):\n",
        "        inputs, labels = data[0].to(device), data[1].to(device)\n",
        "\n",
        "        optimizer.zero_grad()\n",
        "        outputs = model_task_1(inputs)\n",
        "        loss = criterion(outputs, labels)\n",
        "        loss.backward()\n",
        "        optimizer.step()\n",
        "\n",
        "        running_loss += loss.item()\n",
        "        if i % 200 == 199:\n",
        "            print(f'[{epoch + 1}, {i + 1:5d}] loss: {running_loss / 200:.3f}')\n",
        "            running_loss = 0.0\n",
        "\n",
        "print('Finished Training')\n",
        "\n",
        "# Evaluate the model on the test set\n",
        "correct = 0\n",
        "total = 0\n",
        "with torch.no_grad():\n",
        "    for data in test_data_loader:\n",
        "        images, labels = data[0].to(device), data[1].to(device)\n",
        "        outputs = model_task_1(images)\n",
        "        _, predicted = torch.max(outputs.data, 1)\n",
        "        total += labels.size(0)\n",
        "        correct += (predicted == labels).sum().item()\n",
        "\n",
        "accuracy = 100 * correct / total\n",
        "print(f'Accuracy of the network on the 10000 test images: {accuracy:.2f}%')"
      ]
    },
    {
      "cell_type": "markdown",
      "metadata": {
        "id": "2zce7gt1gSq-"
      },
      "source": [
        "Также, напоминаем, что в любой момент можно обратиться к замечательной [документации](https://pytorch.org/docs/stable/index.html) и [обучающим примерам](https://pytorch.org/tutorials/).  "
      ]
    },
    {
      "cell_type": "markdown",
      "metadata": {
        "id": "usswrWYOgSq-"
      },
      "source": [
        "Оценим качество классификации:"
      ]
    },
    {
      "cell_type": "code",
      "execution_count": 24,
      "metadata": {
        "id": "Xua3TVZHgSq-",
        "outputId": "5e2c2a9b-2a64-4d82-c74f-7e1a72d091af",
        "colab": {
          "base_uri": "https://localhost:8080/"
        }
      },
      "outputs": [
        {
          "output_type": "stream",
          "name": "stdout",
          "text": [
            "Neural network accuracy on train set: 0.99908\n"
          ]
        }
      ],
      "source": [
        "train_acc_task_1 = get_accuracy(model_task_1, train_data_loader)\n",
        "print(f\"Neural network accuracy on train set: {train_acc_task_1:3.5}\")"
      ]
    },
    {
      "cell_type": "code",
      "execution_count": 25,
      "metadata": {
        "id": "l9KEKXBxgSq-",
        "outputId": "38c97ce0-d4e6-4c3a-b277-e140932521ce",
        "colab": {
          "base_uri": "https://localhost:8080/"
        }
      },
      "outputs": [
        {
          "output_type": "stream",
          "name": "stdout",
          "text": [
            "Neural network accuracy on test set: 0.9303\n"
          ]
        }
      ],
      "source": [
        "test_acc_task_1 = get_accuracy(model_task_1, test_data_loader)\n",
        "print(f\"Neural network accuracy on test set: {test_acc_task_1:3.5}\")"
      ]
    },
    {
      "cell_type": "markdown",
      "metadata": {
        "id": "4oyhmMobgSq_"
      },
      "source": [
        "Проверка, что необходимые пороги пройдены:"
      ]
    },
    {
      "cell_type": "code",
      "execution_count": 26,
      "metadata": {
        "id": "OAIrURCEgSq_"
      },
      "outputs": [],
      "source": [
        "assert test_acc_task_1 >= 0.885, \"Train accuracy is below 0.885 threshold\"\n",
        "assert (\n",
        "    train_acc_task_1 >= 0.905\n",
        "), \"Train accuracy is below 0.905 while test accuracy is fine. We recommend to check your model and data flow\""
      ]
    },
    {
      "cell_type": "markdown",
      "metadata": {
        "id": "d89A32eceEyn"
      },
      "source": [
        "Обращаем внимане, код ниже предполагает, что ваша модель имеет содержится в переменной `model_task_1`, а файл `hw_fmnist_data_dict.npy` находится в той же директории, что и ноутбук (он доступен в репозитории)."
      ]
    },
    {
      "cell_type": "code",
      "execution_count": 27,
      "metadata": {
        "id": "2h3CgIMueEyo",
        "outputId": "fd677a41-8558-4fac-f7b9-b528beabcdad",
        "colab": {
          "base_uri": "https://localhost:8080/"
        }
      },
      "outputs": [
        {
          "output_type": "stream",
          "name": "stdout",
          "text": [
            "File saved to `submission_dict_fmnist_task_1.json`\n"
          ]
        }
      ],
      "source": [
        "# do not change the code in the block below\n",
        "# __________start of block__________\n",
        "assert os.path.exists(\n",
        "    \"hw_fmnist_data_dict.npy\"\n",
        "), \"Please, download `hw_fmnist_data_dict.npy` and place it in the working directory\"\n",
        "\n",
        "loaded_data_dict = np.load(\"/content/hw_overfitting_data_dict.npy\", allow_pickle=True)\n",
        "\n",
        "submission_dict = {\n",
        "    \"train_predictions_task_1\": get_predictions(\n",
        "        model_task_1, torch.FloatTensor(loaded_data_dict.item()[\"train\"])\n",
        "    ),\n",
        "    \"test_predictions_task_1\": get_predictions(\n",
        "        model_task_1, torch.FloatTensor(loaded_data_dict.item()[\"test\"])\n",
        "    ),\n",
        "}\n",
        "\n",
        "with open(\"submission_dict_fmnist_task_1.json\", \"w\") as iofile:\n",
        "    json.dump(submission_dict, iofile)\n",
        "print(\"File saved to `submission_dict_fmnist_task_1.json`\")\n",
        "# __________end of block__________"
      ]
    },
    {
      "cell_type": "markdown",
      "metadata": {
        "id": "k_7KLMs_eEyo"
      },
      "source": [
        "### Сдача задания\n",
        "Сдайте сгенерированный файл в соответствующую задачу в соревновании, а именно:\n",
        "    \n",
        "* `submission_dict_fmnist_task_1.json` в задачу Separation"
      ]
    },
    {
      "cell_type": "markdown",
      "metadata": {
        "id": "OtWnYAN_gSrA"
      },
      "source": [
        "На этом задание завершено. Поздравляем!"
      ]
    }
  ],
  "metadata": {
    "accelerator": "GPU",
    "colab": {
      "gpuType": "T4",
      "provenance": []
    },
    "kernelspec": {
      "display_name": "Python 3 (ipykernel)",
      "language": "python",
      "name": "python3"
    },
    "language_info": {
      "codemirror_mode": {
        "name": "ipython",
        "version": 3
      },
      "file_extension": ".py",
      "mimetype": "text/x-python",
      "name": "python",
      "nbconvert_exporter": "python",
      "pygments_lexer": "ipython3",
      "version": "3.8.19"
    },
    "toc": {
      "base_numbering": 1,
      "nav_menu": {},
      "number_sections": true,
      "sideBar": true,
      "skip_h1_title": false,
      "title_cell": "Table of Contents",
      "title_sidebar": "Contents",
      "toc_cell": false,
      "toc_position": {},
      "toc_section_display": true,
      "toc_window_display": false
    },
    "vscode": {
      "interpreter": {
        "hash": "21499ab2a6726e29f7050b76af0e9680227e613293d630ba279de7ebdfad9cae"
      }
    }
  },
  "nbformat": 4,
  "nbformat_minor": 0
}